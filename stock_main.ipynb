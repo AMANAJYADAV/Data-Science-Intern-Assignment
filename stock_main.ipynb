{
 "cells": [
  {
   "cell_type": "markdown",
   "id": "bf7077a8-932f-4b3d-9d81-a525480fcf37",
   "metadata": {},
   "source": [
    "# Algorithmic Trading Internship Assignment"
   ]
  },
  {
   "cell_type": "markdown",
   "id": "dffcc6ce-0556-4fce-a6e4-d5790fe1d84f",
   "metadata": {},
   "source": [
    "## Objective: To analyze financial data, develop predictive models, and implement algorithmic trading strategies."
   ]
  },
  {
   "cell_type": "markdown",
   "id": "bc683ec3-9a06-46c0-bc6c-e4dbbc7de34d",
   "metadata": {},
   "source": [
    "#  Task 1: Data Analysis and Feature Engineering\n"
   ]
  },
  {
   "cell_type": "markdown",
   "id": "a7d70a5b-91f3-4037-ba76-6849f5e501c9",
   "metadata": {},
   "source": [
    "## Installing Required Packages"
   ]
  },
  {
   "cell_type": "code",
   "execution_count": 5,
   "id": "fae84c62-e6f1-41e3-be8f-0edc210a1fb9",
   "metadata": {},
   "outputs": [
    {
     "name": "stdout",
     "output_type": "stream",
     "text": [
      "Requirement already satisfied: backtrader in c:\\users\\aman0\\anaconda_distribution\\lib\\site-packages (1.9.78.123)\n",
      "Requirement already satisfied: ipython in c:\\users\\aman0\\anaconda_distribution\\lib\\site-packages (9.0.1)\n",
      "Requirement already satisfied: colorama in c:\\users\\aman0\\anaconda_distribution\\lib\\site-packages (from ipython) (0.4.6)\n",
      "Requirement already satisfied: decorator in c:\\users\\aman0\\anaconda_distribution\\lib\\site-packages (from ipython) (5.1.1)\n",
      "Requirement already satisfied: ipython-pygments-lexers in c:\\users\\aman0\\anaconda_distribution\\lib\\site-packages (from ipython) (1.1.1)\n",
      "Requirement already satisfied: jedi>=0.16 in c:\\users\\aman0\\anaconda_distribution\\lib\\site-packages (from ipython) (0.18.1)\n",
      "Requirement already satisfied: matplotlib-inline in c:\\users\\aman0\\anaconda_distribution\\lib\\site-packages (from ipython) (0.1.6)\n",
      "Requirement already satisfied: prompt_toolkit<3.1.0,>=3.0.41 in c:\\users\\aman0\\anaconda_distribution\\lib\\site-packages (from ipython) (3.0.43)\n",
      "Requirement already satisfied: pygments>=2.4.0 in c:\\users\\aman0\\anaconda_distribution\\lib\\site-packages (from ipython) (2.15.1)\n",
      "Requirement already satisfied: stack_data in c:\\users\\aman0\\anaconda_distribution\\lib\\site-packages (from ipython) (0.2.0)\n",
      "Requirement already satisfied: traitlets>=5.13.0 in c:\\users\\aman0\\anaconda_distribution\\lib\\site-packages (from ipython) (5.14.3)\n",
      "Requirement already satisfied: parso<0.9.0,>=0.8.0 in c:\\users\\aman0\\anaconda_distribution\\lib\\site-packages (from jedi>=0.16->ipython) (0.8.3)\n",
      "Requirement already satisfied: wcwidth in c:\\users\\aman0\\anaconda_distribution\\lib\\site-packages (from prompt_toolkit<3.1.0,>=3.0.41->ipython) (0.2.5)\n",
      "Requirement already satisfied: executing in c:\\users\\aman0\\anaconda_distribution\\lib\\site-packages (from stack_data->ipython) (0.8.3)\n",
      "Requirement already satisfied: asttokens in c:\\users\\aman0\\anaconda_distribution\\lib\\site-packages (from stack_data->ipython) (2.0.5)\n",
      "Requirement already satisfied: pure-eval in c:\\users\\aman0\\anaconda_distribution\\lib\\site-packages (from stack_data->ipython) (0.2.2)\n",
      "Requirement already satisfied: six in c:\\users\\aman0\\anaconda_distribution\\lib\\site-packages (from asttokens->stack_data->ipython) (1.16.0)\n",
      "Requirement already satisfied: jupyter in c:\\users\\aman0\\anaconda_distribution\\lib\\site-packages (1.1.1)\n",
      "Requirement already satisfied: ipython in c:\\users\\aman0\\anaconda_distribution\\lib\\site-packages (9.0.1)\n",
      "Requirement already satisfied: notebook in c:\\users\\aman0\\anaconda_distribution\\lib\\site-packages (from jupyter) (7.0.8)\n",
      "Requirement already satisfied: jupyter-console in c:\\users\\aman0\\anaconda_distribution\\lib\\site-packages (from jupyter) (6.6.3)\n",
      "Requirement already satisfied: nbconvert in c:\\users\\aman0\\anaconda_distribution\\lib\\site-packages (from jupyter) (7.10.0)\n",
      "Requirement already satisfied: ipykernel in c:\\users\\aman0\\anaconda_distribution\\lib\\site-packages (from jupyter) (6.28.0)\n",
      "Requirement already satisfied: ipywidgets in c:\\users\\aman0\\anaconda_distribution\\lib\\site-packages (from jupyter) (7.8.1)\n",
      "Requirement already satisfied: jupyterlab in c:\\users\\aman0\\anaconda_distribution\\lib\\site-packages (from jupyter) (4.0.11)\n",
      "Requirement already satisfied: colorama in c:\\users\\aman0\\anaconda_distribution\\lib\\site-packages (from ipython) (0.4.6)\n",
      "Requirement already satisfied: decorator in c:\\users\\aman0\\anaconda_distribution\\lib\\site-packages (from ipython) (5.1.1)\n",
      "Requirement already satisfied: ipython-pygments-lexers in c:\\users\\aman0\\anaconda_distribution\\lib\\site-packages (from ipython) (1.1.1)\n",
      "Requirement already satisfied: jedi>=0.16 in c:\\users\\aman0\\anaconda_distribution\\lib\\site-packages (from ipython) (0.18.1)\n",
      "Requirement already satisfied: matplotlib-inline in c:\\users\\aman0\\anaconda_distribution\\lib\\site-packages (from ipython) (0.1.6)\n",
      "Requirement already satisfied: prompt_toolkit<3.1.0,>=3.0.41 in c:\\users\\aman0\\anaconda_distribution\\lib\\site-packages (from ipython) (3.0.43)\n",
      "Requirement already satisfied: pygments>=2.4.0 in c:\\users\\aman0\\anaconda_distribution\\lib\\site-packages (from ipython) (2.15.1)\n",
      "Requirement already satisfied: stack_data in c:\\users\\aman0\\anaconda_distribution\\lib\\site-packages (from ipython) (0.2.0)\n",
      "Requirement already satisfied: traitlets>=5.13.0 in c:\\users\\aman0\\anaconda_distribution\\lib\\site-packages (from ipython) (5.14.3)\n",
      "Requirement already satisfied: parso<0.9.0,>=0.8.0 in c:\\users\\aman0\\anaconda_distribution\\lib\\site-packages (from jedi>=0.16->ipython) (0.8.3)\n",
      "Requirement already satisfied: wcwidth in c:\\users\\aman0\\anaconda_distribution\\lib\\site-packages (from prompt_toolkit<3.1.0,>=3.0.41->ipython) (0.2.5)\n",
      "Requirement already satisfied: comm>=0.1.1 in c:\\users\\aman0\\anaconda_distribution\\lib\\site-packages (from ipykernel->jupyter) (0.2.1)\n",
      "Requirement already satisfied: debugpy>=1.6.5 in c:\\users\\aman0\\anaconda_distribution\\lib\\site-packages (from ipykernel->jupyter) (1.6.7)\n",
      "Requirement already satisfied: jupyter-client>=6.1.12 in c:\\users\\aman0\\anaconda_distribution\\lib\\site-packages (from ipykernel->jupyter) (8.6.0)\n",
      "Requirement already satisfied: jupyter-core!=5.0.*,>=4.12 in c:\\users\\aman0\\anaconda_distribution\\lib\\site-packages (from ipykernel->jupyter) (5.7.2)\n",
      "Requirement already satisfied: nest-asyncio in c:\\users\\aman0\\anaconda_distribution\\lib\\site-packages (from ipykernel->jupyter) (1.6.0)\n",
      "Requirement already satisfied: packaging in c:\\users\\aman0\\anaconda_distribution\\lib\\site-packages (from ipykernel->jupyter) (23.2)\n",
      "Requirement already satisfied: psutil in c:\\users\\aman0\\anaconda_distribution\\lib\\site-packages (from ipykernel->jupyter) (5.9.0)\n",
      "Requirement already satisfied: pyzmq>=24 in c:\\users\\aman0\\anaconda_distribution\\lib\\site-packages (from ipykernel->jupyter) (25.1.2)\n",
      "Requirement already satisfied: tornado>=6.1 in c:\\users\\aman0\\anaconda_distribution\\lib\\site-packages (from ipykernel->jupyter) (6.4.1)\n",
      "Requirement already satisfied: ipython-genutils~=0.2.0 in c:\\users\\aman0\\anaconda_distribution\\lib\\site-packages (from ipywidgets->jupyter) (0.2.0)\n",
      "Requirement already satisfied: widgetsnbextension~=3.6.6 in c:\\users\\aman0\\anaconda_distribution\\lib\\site-packages (from ipywidgets->jupyter) (3.6.6)\n",
      "Requirement already satisfied: jupyterlab-widgets<3,>=1.0.0 in c:\\users\\aman0\\anaconda_distribution\\lib\\site-packages (from ipywidgets->jupyter) (1.0.0)\n",
      "Requirement already satisfied: async-lru>=1.0.0 in c:\\users\\aman0\\anaconda_distribution\\lib\\site-packages (from jupyterlab->jupyter) (2.0.4)\n",
      "Requirement already satisfied: jinja2>=3.0.3 in c:\\users\\aman0\\anaconda_distribution\\lib\\site-packages (from jupyterlab->jupyter) (3.1.4)\n",
      "Requirement already satisfied: jupyter-lsp>=2.0.0 in c:\\users\\aman0\\anaconda_distribution\\lib\\site-packages (from jupyterlab->jupyter) (2.2.0)\n",
      "Requirement already satisfied: jupyter-server<3,>=2.4.0 in c:\\users\\aman0\\anaconda_distribution\\lib\\site-packages (from jupyterlab->jupyter) (2.14.1)\n",
      "Requirement already satisfied: jupyterlab-server<3,>=2.19.0 in c:\\users\\aman0\\anaconda_distribution\\lib\\site-packages (from jupyterlab->jupyter) (2.25.1)\n",
      "Requirement already satisfied: notebook-shim>=0.2 in c:\\users\\aman0\\anaconda_distribution\\lib\\site-packages (from jupyterlab->jupyter) (0.2.3)\n",
      "Requirement already satisfied: beautifulsoup4 in c:\\users\\aman0\\anaconda_distribution\\lib\\site-packages (from nbconvert->jupyter) (4.12.3)\n",
      "Requirement already satisfied: bleach!=5.0.0 in c:\\users\\aman0\\anaconda_distribution\\lib\\site-packages (from nbconvert->jupyter) (4.1.0)\n",
      "Requirement already satisfied: defusedxml in c:\\users\\aman0\\anaconda_distribution\\lib\\site-packages (from nbconvert->jupyter) (0.7.1)\n",
      "Requirement already satisfied: jupyterlab-pygments in c:\\users\\aman0\\anaconda_distribution\\lib\\site-packages (from nbconvert->jupyter) (0.1.2)\n",
      "Requirement already satisfied: markupsafe>=2.0 in c:\\users\\aman0\\anaconda_distribution\\lib\\site-packages (from nbconvert->jupyter) (2.1.3)\n",
      "Requirement already satisfied: mistune<4,>=2.0.3 in c:\\users\\aman0\\anaconda_distribution\\lib\\site-packages (from nbconvert->jupyter) (2.0.4)\n",
      "Requirement already satisfied: nbclient>=0.5.0 in c:\\users\\aman0\\anaconda_distribution\\lib\\site-packages (from nbconvert->jupyter) (0.8.0)\n",
      "Requirement already satisfied: nbformat>=5.7 in c:\\users\\aman0\\anaconda_distribution\\lib\\site-packages (from nbconvert->jupyter) (5.9.2)\n",
      "Requirement already satisfied: pandocfilters>=1.4.1 in c:\\users\\aman0\\anaconda_distribution\\lib\\site-packages (from nbconvert->jupyter) (1.5.0)\n",
      "Requirement already satisfied: tinycss2 in c:\\users\\aman0\\anaconda_distribution\\lib\\site-packages (from nbconvert->jupyter) (1.2.1)\n",
      "Requirement already satisfied: executing in c:\\users\\aman0\\anaconda_distribution\\lib\\site-packages (from stack_data->ipython) (0.8.3)\n",
      "Requirement already satisfied: asttokens in c:\\users\\aman0\\anaconda_distribution\\lib\\site-packages (from stack_data->ipython) (2.0.5)\n",
      "Requirement already satisfied: pure-eval in c:\\users\\aman0\\anaconda_distribution\\lib\\site-packages (from stack_data->ipython) (0.2.2)\n",
      "Requirement already satisfied: six>=1.9.0 in c:\\users\\aman0\\anaconda_distribution\\lib\\site-packages (from bleach!=5.0.0->nbconvert->jupyter) (1.16.0)\n",
      "Requirement already satisfied: webencodings in c:\\users\\aman0\\anaconda_distribution\\lib\\site-packages (from bleach!=5.0.0->nbconvert->jupyter) (0.5.1)\n",
      "Requirement already satisfied: python-dateutil>=2.8.2 in c:\\users\\aman0\\anaconda_distribution\\lib\\site-packages (from jupyter-client>=6.1.12->ipykernel->jupyter) (2.9.0.post0)\n",
      "Requirement already satisfied: platformdirs>=2.5 in c:\\users\\aman0\\anaconda_distribution\\lib\\site-packages (from jupyter-core!=5.0.*,>=4.12->ipykernel->jupyter) (3.10.0)\n",
      "Requirement already satisfied: pywin32>=300 in c:\\users\\aman0\\anaconda_distribution\\lib\\site-packages (from jupyter-core!=5.0.*,>=4.12->ipykernel->jupyter) (305.1)\n",
      "Requirement already satisfied: anyio>=3.1.0 in c:\\users\\aman0\\anaconda_distribution\\lib\\site-packages (from jupyter-server<3,>=2.4.0->jupyterlab->jupyter) (4.2.0)\n",
      "Requirement already satisfied: argon2-cffi>=21.1 in c:\\users\\aman0\\anaconda_distribution\\lib\\site-packages (from jupyter-server<3,>=2.4.0->jupyterlab->jupyter) (21.3.0)\n",
      "Requirement already satisfied: jupyter-events>=0.9.0 in c:\\users\\aman0\\anaconda_distribution\\lib\\site-packages (from jupyter-server<3,>=2.4.0->jupyterlab->jupyter) (0.10.0)\n",
      "Requirement already satisfied: jupyter-server-terminals>=0.4.4 in c:\\users\\aman0\\anaconda_distribution\\lib\\site-packages (from jupyter-server<3,>=2.4.0->jupyterlab->jupyter) (0.4.4)\n",
      "Requirement already satisfied: overrides>=5.0 in c:\\users\\aman0\\anaconda_distribution\\lib\\site-packages (from jupyter-server<3,>=2.4.0->jupyterlab->jupyter) (7.4.0)\n",
      "Requirement already satisfied: prometheus-client>=0.9 in c:\\users\\aman0\\anaconda_distribution\\lib\\site-packages (from jupyter-server<3,>=2.4.0->jupyterlab->jupyter) (0.14.1)\n",
      "Requirement already satisfied: pywinpty>=2.0.1 in c:\\users\\aman0\\anaconda_distribution\\lib\\site-packages (from jupyter-server<3,>=2.4.0->jupyterlab->jupyter) (2.0.10)\n",
      "Requirement already satisfied: send2trash>=1.8.2 in c:\\users\\aman0\\anaconda_distribution\\lib\\site-packages (from jupyter-server<3,>=2.4.0->jupyterlab->jupyter) (1.8.2)\n",
      "Requirement already satisfied: terminado>=0.8.3 in c:\\users\\aman0\\anaconda_distribution\\lib\\site-packages (from jupyter-server<3,>=2.4.0->jupyterlab->jupyter) (0.17.1)\n",
      "Requirement already satisfied: websocket-client>=1.7 in c:\\users\\aman0\\anaconda_distribution\\lib\\site-packages (from jupyter-server<3,>=2.4.0->jupyterlab->jupyter) (1.8.0)\n",
      "Requirement already satisfied: babel>=2.10 in c:\\users\\aman0\\anaconda_distribution\\lib\\site-packages (from jupyterlab-server<3,>=2.19.0->jupyterlab->jupyter) (2.11.0)\n",
      "Requirement already satisfied: json5>=0.9.0 in c:\\users\\aman0\\anaconda_distribution\\lib\\site-packages (from jupyterlab-server<3,>=2.19.0->jupyterlab->jupyter) (0.9.6)\n",
      "Requirement already satisfied: jsonschema>=4.18.0 in c:\\users\\aman0\\anaconda_distribution\\lib\\site-packages (from jupyterlab-server<3,>=2.19.0->jupyterlab->jupyter) (4.19.2)\n",
      "Requirement already satisfied: requests>=2.31 in c:\\users\\aman0\\anaconda_distribution\\lib\\site-packages (from jupyterlab-server<3,>=2.19.0->jupyterlab->jupyter) (2.32.2)\n",
      "Requirement already satisfied: fastjsonschema in c:\\users\\aman0\\anaconda_distribution\\lib\\site-packages (from nbformat>=5.7->nbconvert->jupyter) (2.16.2)\n",
      "Requirement already satisfied: soupsieve>1.2 in c:\\users\\aman0\\anaconda_distribution\\lib\\site-packages (from beautifulsoup4->nbconvert->jupyter) (2.5)\n",
      "Requirement already satisfied: idna>=2.8 in c:\\users\\aman0\\anaconda_distribution\\lib\\site-packages (from anyio>=3.1.0->jupyter-server<3,>=2.4.0->jupyterlab->jupyter) (3.7)\n",
      "Requirement already satisfied: sniffio>=1.1 in c:\\users\\aman0\\anaconda_distribution\\lib\\site-packages (from anyio>=3.1.0->jupyter-server<3,>=2.4.0->jupyterlab->jupyter) (1.3.0)\n",
      "Requirement already satisfied: argon2-cffi-bindings in c:\\users\\aman0\\anaconda_distribution\\lib\\site-packages (from argon2-cffi>=21.1->jupyter-server<3,>=2.4.0->jupyterlab->jupyter) (21.2.0)\n",
      "Requirement already satisfied: pytz>=2015.7 in c:\\users\\aman0\\anaconda_distribution\\lib\\site-packages (from babel>=2.10->jupyterlab-server<3,>=2.19.0->jupyterlab->jupyter) (2024.1)\n",
      "Requirement already satisfied: attrs>=22.2.0 in c:\\users\\aman0\\anaconda_distribution\\lib\\site-packages (from jsonschema>=4.18.0->jupyterlab-server<3,>=2.19.0->jupyterlab->jupyter) (23.1.0)\n",
      "Requirement already satisfied: jsonschema-specifications>=2023.03.6 in c:\\users\\aman0\\anaconda_distribution\\lib\\site-packages (from jsonschema>=4.18.0->jupyterlab-server<3,>=2.19.0->jupyterlab->jupyter) (2023.7.1)\n",
      "Requirement already satisfied: referencing>=0.28.4 in c:\\users\\aman0\\anaconda_distribution\\lib\\site-packages (from jsonschema>=4.18.0->jupyterlab-server<3,>=2.19.0->jupyterlab->jupyter) (0.30.2)\n",
      "Requirement already satisfied: rpds-py>=0.7.1 in c:\\users\\aman0\\anaconda_distribution\\lib\\site-packages (from jsonschema>=4.18.0->jupyterlab-server<3,>=2.19.0->jupyterlab->jupyter) (0.10.6)\n",
      "Requirement already satisfied: python-json-logger>=2.0.4 in c:\\users\\aman0\\anaconda_distribution\\lib\\site-packages (from jupyter-events>=0.9.0->jupyter-server<3,>=2.4.0->jupyterlab->jupyter) (2.0.7)\n",
      "Requirement already satisfied: pyyaml>=5.3 in c:\\users\\aman0\\anaconda_distribution\\lib\\site-packages (from jupyter-events>=0.9.0->jupyter-server<3,>=2.4.0->jupyterlab->jupyter) (6.0.1)\n",
      "Requirement already satisfied: rfc3339-validator in c:\\users\\aman0\\anaconda_distribution\\lib\\site-packages (from jupyter-events>=0.9.0->jupyter-server<3,>=2.4.0->jupyterlab->jupyter) (0.1.4)\n",
      "Requirement already satisfied: rfc3986-validator>=0.1.1 in c:\\users\\aman0\\anaconda_distribution\\lib\\site-packages (from jupyter-events>=0.9.0->jupyter-server<3,>=2.4.0->jupyterlab->jupyter) (0.1.1)\n",
      "Requirement already satisfied: charset-normalizer<4,>=2 in c:\\users\\aman0\\anaconda_distribution\\lib\\site-packages (from requests>=2.31->jupyterlab-server<3,>=2.19.0->jupyterlab->jupyter) (2.0.4)\n",
      "Requirement already satisfied: urllib3<3,>=1.21.1 in c:\\users\\aman0\\anaconda_distribution\\lib\\site-packages (from requests>=2.31->jupyterlab-server<3,>=2.19.0->jupyterlab->jupyter) (2.2.2)\n",
      "Requirement already satisfied: certifi>=2017.4.17 in c:\\users\\aman0\\anaconda_distribution\\lib\\site-packages (from requests>=2.31->jupyterlab-server<3,>=2.19.0->jupyterlab->jupyter) (2024.8.30)\n",
      "Requirement already satisfied: fqdn in c:\\users\\aman0\\anaconda_distribution\\lib\\site-packages (from jsonschema[format-nongpl]>=4.18.0->jupyter-events>=0.9.0->jupyter-server<3,>=2.4.0->jupyterlab->jupyter) (1.5.1)\n",
      "Requirement already satisfied: isoduration in c:\\users\\aman0\\anaconda_distribution\\lib\\site-packages (from jsonschema[format-nongpl]>=4.18.0->jupyter-events>=0.9.0->jupyter-server<3,>=2.4.0->jupyterlab->jupyter) (20.11.0)\n",
      "Requirement already satisfied: jsonpointer>1.13 in c:\\users\\aman0\\anaconda_distribution\\lib\\site-packages (from jsonschema[format-nongpl]>=4.18.0->jupyter-events>=0.9.0->jupyter-server<3,>=2.4.0->jupyterlab->jupyter) (2.1)\n",
      "Requirement already satisfied: uri-template in c:\\users\\aman0\\anaconda_distribution\\lib\\site-packages (from jsonschema[format-nongpl]>=4.18.0->jupyter-events>=0.9.0->jupyter-server<3,>=2.4.0->jupyterlab->jupyter) (1.3.0)\n",
      "Requirement already satisfied: webcolors>=1.11 in c:\\users\\aman0\\anaconda_distribution\\lib\\site-packages (from jsonschema[format-nongpl]>=4.18.0->jupyter-events>=0.9.0->jupyter-server<3,>=2.4.0->jupyterlab->jupyter) (24.8.0)\n",
      "Requirement already satisfied: cffi>=1.0.1 in c:\\users\\aman0\\anaconda_distribution\\lib\\site-packages (from argon2-cffi-bindings->argon2-cffi>=21.1->jupyter-server<3,>=2.4.0->jupyterlab->jupyter) (1.16.0)\n",
      "Requirement already satisfied: pycparser in c:\\users\\aman0\\anaconda_distribution\\lib\\site-packages (from cffi>=1.0.1->argon2-cffi-bindings->argon2-cffi>=21.1->jupyter-server<3,>=2.4.0->jupyterlab->jupyter) (2.21)\n",
      "Requirement already satisfied: arrow>=0.15.0 in c:\\users\\aman0\\anaconda_distribution\\lib\\site-packages (from isoduration->jsonschema[format-nongpl]>=4.18.0->jupyter-events>=0.9.0->jupyter-server<3,>=2.4.0->jupyterlab->jupyter) (1.2.3)\n"
     ]
    }
   ],
   "source": [
    "!pip install backtrader\n",
    "!pip install ipython\n",
    "!pip install --upgrade jupyter ipython"
   ]
  },
  {
   "cell_type": "markdown",
   "id": "a7872c13-9653-4ef9-9544-d2a37edffefa",
   "metadata": {},
   "source": [
    "## Importing Essential Libraries"
   ]
  },
  {
   "cell_type": "code",
   "execution_count": 7,
   "id": "ad76b61d-8fa5-43c2-b7da-5430abfa2296",
   "metadata": {},
   "outputs": [],
   "source": [
    "import pandas as pd \n",
    "import numpy as np \n",
    "import matplotlib.pyplot as plt \n",
    "import seaborn as sns "
   ]
  },
  {
   "cell_type": "markdown",
   "id": "4b89cb3f-0c70-495e-904d-f52c50d36229",
   "metadata": {},
   "source": [
    "### Step 1: Load Dataset"
   ]
  },
  {
   "cell_type": "code",
   "execution_count": 9,
   "id": "eabfa054-aec4-458c-b0da-a0a34458372e",
   "metadata": {},
   "outputs": [
    {
     "data": {
      "text/html": [
       "<div>\n",
       "<style scoped>\n",
       "    .dataframe tbody tr th:only-of-type {\n",
       "        vertical-align: middle;\n",
       "    }\n",
       "\n",
       "    .dataframe tbody tr th {\n",
       "        vertical-align: top;\n",
       "    }\n",
       "\n",
       "    .dataframe thead th {\n",
       "        text-align: right;\n",
       "    }\n",
       "</style>\n",
       "<table border=\"1\" class=\"dataframe\">\n",
       "  <thead>\n",
       "    <tr style=\"text-align: right;\">\n",
       "      <th></th>\n",
       "      <th>Open</th>\n",
       "      <th>High</th>\n",
       "      <th>Low</th>\n",
       "      <th>Close</th>\n",
       "      <th>Volume</th>\n",
       "      <th>Dividends</th>\n",
       "      <th>Stock Splits</th>\n",
       "    </tr>\n",
       "    <tr>\n",
       "      <th>Date</th>\n",
       "      <th></th>\n",
       "      <th></th>\n",
       "      <th></th>\n",
       "      <th></th>\n",
       "      <th></th>\n",
       "      <th></th>\n",
       "      <th></th>\n",
       "    </tr>\n",
       "  </thead>\n",
       "  <tbody>\n",
       "    <tr>\n",
       "      <th>1994-02-22 00:00:00-05:00</th>\n",
       "      <td>4.555785</td>\n",
       "      <td>4.555785</td>\n",
       "      <td>4.478568</td>\n",
       "      <td>4.478568</td>\n",
       "      <td>20800</td>\n",
       "      <td>0.0</td>\n",
       "      <td>0.0</td>\n",
       "    </tr>\n",
       "    <tr>\n",
       "      <th>1994-02-23 00:00:00-05:00</th>\n",
       "      <td>4.401352</td>\n",
       "      <td>4.401352</td>\n",
       "      <td>4.169702</td>\n",
       "      <td>4.285527</td>\n",
       "      <td>31600</td>\n",
       "      <td>0.0</td>\n",
       "      <td>0.0</td>\n",
       "    </tr>\n",
       "    <tr>\n",
       "      <th>1994-02-24 00:00:00-05:00</th>\n",
       "      <td>4.285526</td>\n",
       "      <td>4.285526</td>\n",
       "      <td>4.208310</td>\n",
       "      <td>4.208310</td>\n",
       "      <td>32000</td>\n",
       "      <td>0.0</td>\n",
       "      <td>0.0</td>\n",
       "    </tr>\n",
       "    <tr>\n",
       "      <th>1994-02-25 00:00:00-05:00</th>\n",
       "      <td>4.131093</td>\n",
       "      <td>4.131093</td>\n",
       "      <td>3.860835</td>\n",
       "      <td>3.976660</td>\n",
       "      <td>49800</td>\n",
       "      <td>0.0</td>\n",
       "      <td>0.0</td>\n",
       "    </tr>\n",
       "  </tbody>\n",
       "</table>\n",
       "</div>"
      ],
      "text/plain": [
       "                               Open      High       Low     Close  Volume  \\\n",
       "Date                                                                        \n",
       "1994-02-22 00:00:00-05:00  4.555785  4.555785  4.478568  4.478568   20800   \n",
       "1994-02-23 00:00:00-05:00  4.401352  4.401352  4.169702  4.285527   31600   \n",
       "1994-02-24 00:00:00-05:00  4.285526  4.285526  4.208310  4.208310   32000   \n",
       "1994-02-25 00:00:00-05:00  4.131093  4.131093  3.860835  3.976660   49800   \n",
       "\n",
       "                           Dividends  Stock Splits  \n",
       "Date                                                \n",
       "1994-02-22 00:00:00-05:00        0.0           0.0  \n",
       "1994-02-23 00:00:00-05:00        0.0           0.0  \n",
       "1994-02-24 00:00:00-05:00        0.0           0.0  \n",
       "1994-02-25 00:00:00-05:00        0.0           0.0  "
      ]
     },
     "execution_count": 9,
     "metadata": {},
     "output_type": "execute_result"
    }
   ],
   "source": [
    "data = pd.read_csv('ALB.csv', parse_dates=['Date'], index_col='Date')\n",
    "data.head(4)"
   ]
  },
  {
   "cell_type": "code",
   "execution_count": 10,
   "id": "738249ad-7c27-4e90-ad3f-70ee04c39585",
   "metadata": {},
   "outputs": [],
   "source": [
    "### Checking its info "
   ]
  },
  {
   "cell_type": "code",
   "execution_count": 11,
   "id": "ee9bc843-567d-43a4-a72d-d3f24f67744d",
   "metadata": {},
   "outputs": [
    {
     "name": "stdout",
     "output_type": "stream",
     "text": [
      "<class 'pandas.core.frame.DataFrame'>\n",
      "Index: 7448 entries, 1994-02-22 00:00:00-05:00 to 2023-09-21 00:00:00-04:00\n",
      "Data columns (total 7 columns):\n",
      " #   Column        Non-Null Count  Dtype  \n",
      "---  ------        --------------  -----  \n",
      " 0   Open          7448 non-null   float64\n",
      " 1   High          7448 non-null   float64\n",
      " 2   Low           7448 non-null   float64\n",
      " 3   Close         7448 non-null   float64\n",
      " 4   Volume        7448 non-null   int64  \n",
      " 5   Dividends     7448 non-null   float64\n",
      " 6   Stock Splits  7448 non-null   float64\n",
      "dtypes: float64(6), int64(1)\n",
      "memory usage: 465.5+ KB\n"
     ]
    }
   ],
   "source": [
    "data.info()"
   ]
  },
  {
   "cell_type": "code",
   "execution_count": 12,
   "id": "eddb0639-277b-445b-8ccf-e235d51a0454",
   "metadata": {},
   "outputs": [],
   "source": [
    "### Checking it's statistics "
   ]
  },
  {
   "cell_type": "code",
   "execution_count": 13,
   "id": "93f74352-53aa-4b1d-bca0-dc6ef6d92875",
   "metadata": {},
   "outputs": [
    {
     "data": {
      "text/plain": [
       "<bound method NDFrame.describe of                                  Open        High         Low       Close  \\\n",
       "Date                                                                        \n",
       "1994-02-22 00:00:00-05:00    4.555785    4.555785    4.478568    4.478568   \n",
       "1994-02-23 00:00:00-05:00    4.401352    4.401352    4.169702    4.285527   \n",
       "1994-02-24 00:00:00-05:00    4.285526    4.285526    4.208310    4.208310   \n",
       "1994-02-25 00:00:00-05:00    4.131093    4.131093    3.860835    3.976660   \n",
       "1994-02-28 00:00:00-05:00    4.015270    4.169704    3.976662    4.092487   \n",
       "...                               ...         ...         ...         ...   \n",
       "2023-09-15 00:00:00-04:00  184.330002  188.470001  182.929993  183.839996   \n",
       "2023-09-18 00:00:00-04:00  183.380005  183.500000  179.470001  181.619995   \n",
       "2023-09-19 00:00:00-04:00  181.300003  182.250000  178.410004  179.990005   \n",
       "2023-09-20 00:00:00-04:00  180.089996  181.479996  174.210007  174.440002   \n",
       "2023-09-21 00:00:00-04:00  172.500000  172.854996  168.270004  168.493698   \n",
       "\n",
       "                            Volume  Dividends  Stock Splits  \n",
       "Date                                                         \n",
       "1994-02-22 00:00:00-05:00    20800        0.0           0.0  \n",
       "1994-02-23 00:00:00-05:00    31600        0.0           0.0  \n",
       "1994-02-24 00:00:00-05:00    32000        0.0           0.0  \n",
       "1994-02-25 00:00:00-05:00    49800        0.0           0.0  \n",
       "1994-02-28 00:00:00-05:00   170400        0.0           0.0  \n",
       "...                            ...        ...           ...  \n",
       "2023-09-15 00:00:00-04:00  1980400        0.0           0.0  \n",
       "2023-09-18 00:00:00-04:00  1419800        0.0           0.0  \n",
       "2023-09-19 00:00:00-04:00  1397000        0.0           0.0  \n",
       "2023-09-20 00:00:00-04:00  1729600        0.0           0.0  \n",
       "2023-09-21 00:00:00-04:00   944735        0.0           0.0  \n",
       "\n",
       "[7448 rows x 7 columns]>"
      ]
     },
     "execution_count": 13,
     "metadata": {},
     "output_type": "execute_result"
    }
   ],
   "source": [
    "data.describe"
   ]
  },
  {
   "cell_type": "code",
   "execution_count": 14,
   "id": "c695e21d-4c32-4d1d-93ba-ca3ed071f080",
   "metadata": {},
   "outputs": [],
   "source": [
    "### Checking its shape "
   ]
  },
  {
   "cell_type": "code",
   "execution_count": 15,
   "id": "385998c1-ab34-4082-8ee8-7eb2a850f39e",
   "metadata": {},
   "outputs": [
    {
     "data": {
      "text/plain": [
       "(7448, 7)"
      ]
     },
     "execution_count": 15,
     "metadata": {},
     "output_type": "execute_result"
    }
   ],
   "source": [
    "data.shape"
   ]
  },
  {
   "cell_type": "markdown",
   "id": "5718a8fa-a3e7-44d4-91d1-ff4d4089d0f1",
   "metadata": {},
   "source": [
    "### Handeling missing data"
   ]
  },
  {
   "cell_type": "code",
   "execution_count": 17,
   "id": "20c85da0-1786-48ff-a84c-a87f368a7eb9",
   "metadata": {},
   "outputs": [],
   "source": [
    "data=data.dropna()"
   ]
  },
  {
   "cell_type": "code",
   "execution_count": 18,
   "id": "71595db1-2246-4adc-a3fd-e684fc81c20e",
   "metadata": {},
   "outputs": [
    {
     "data": {
      "text/html": [
       "<div>\n",
       "<style scoped>\n",
       "    .dataframe tbody tr th:only-of-type {\n",
       "        vertical-align: middle;\n",
       "    }\n",
       "\n",
       "    .dataframe tbody tr th {\n",
       "        vertical-align: top;\n",
       "    }\n",
       "\n",
       "    .dataframe thead th {\n",
       "        text-align: right;\n",
       "    }\n",
       "</style>\n",
       "<table border=\"1\" class=\"dataframe\">\n",
       "  <thead>\n",
       "    <tr style=\"text-align: right;\">\n",
       "      <th></th>\n",
       "      <th>Open</th>\n",
       "      <th>High</th>\n",
       "      <th>Low</th>\n",
       "      <th>Close</th>\n",
       "      <th>Volume</th>\n",
       "      <th>Dividends</th>\n",
       "      <th>Stock Splits</th>\n",
       "    </tr>\n",
       "    <tr>\n",
       "      <th>Date</th>\n",
       "      <th></th>\n",
       "      <th></th>\n",
       "      <th></th>\n",
       "      <th></th>\n",
       "      <th></th>\n",
       "      <th></th>\n",
       "      <th></th>\n",
       "    </tr>\n",
       "  </thead>\n",
       "  <tbody>\n",
       "    <tr>\n",
       "      <th>1994-02-22 00:00:00-05:00</th>\n",
       "      <td>4.555785</td>\n",
       "      <td>4.555785</td>\n",
       "      <td>4.478568</td>\n",
       "      <td>4.478568</td>\n",
       "      <td>20800</td>\n",
       "      <td>0.0</td>\n",
       "      <td>0.0</td>\n",
       "    </tr>\n",
       "    <tr>\n",
       "      <th>1994-02-23 00:00:00-05:00</th>\n",
       "      <td>4.401352</td>\n",
       "      <td>4.401352</td>\n",
       "      <td>4.169702</td>\n",
       "      <td>4.285527</td>\n",
       "      <td>31600</td>\n",
       "      <td>0.0</td>\n",
       "      <td>0.0</td>\n",
       "    </tr>\n",
       "    <tr>\n",
       "      <th>1994-02-24 00:00:00-05:00</th>\n",
       "      <td>4.285526</td>\n",
       "      <td>4.285526</td>\n",
       "      <td>4.208310</td>\n",
       "      <td>4.208310</td>\n",
       "      <td>32000</td>\n",
       "      <td>0.0</td>\n",
       "      <td>0.0</td>\n",
       "    </tr>\n",
       "    <tr>\n",
       "      <th>1994-02-25 00:00:00-05:00</th>\n",
       "      <td>4.131093</td>\n",
       "      <td>4.131093</td>\n",
       "      <td>3.860835</td>\n",
       "      <td>3.976660</td>\n",
       "      <td>49800</td>\n",
       "      <td>0.0</td>\n",
       "      <td>0.0</td>\n",
       "    </tr>\n",
       "  </tbody>\n",
       "</table>\n",
       "</div>"
      ],
      "text/plain": [
       "                               Open      High       Low     Close  Volume  \\\n",
       "Date                                                                        \n",
       "1994-02-22 00:00:00-05:00  4.555785  4.555785  4.478568  4.478568   20800   \n",
       "1994-02-23 00:00:00-05:00  4.401352  4.401352  4.169702  4.285527   31600   \n",
       "1994-02-24 00:00:00-05:00  4.285526  4.285526  4.208310  4.208310   32000   \n",
       "1994-02-25 00:00:00-05:00  4.131093  4.131093  3.860835  3.976660   49800   \n",
       "\n",
       "                           Dividends  Stock Splits  \n",
       "Date                                                \n",
       "1994-02-22 00:00:00-05:00        0.0           0.0  \n",
       "1994-02-23 00:00:00-05:00        0.0           0.0  \n",
       "1994-02-24 00:00:00-05:00        0.0           0.0  \n",
       "1994-02-25 00:00:00-05:00        0.0           0.0  "
      ]
     },
     "execution_count": 18,
     "metadata": {},
     "output_type": "execute_result"
    }
   ],
   "source": [
    "data.head(4)"
   ]
  },
  {
   "cell_type": "code",
   "execution_count": 19,
   "id": "09b5c818-644e-4983-87da-01e0b25cd656",
   "metadata": {},
   "outputs": [],
   "source": [
    "### Checking different column names. "
   ]
  },
  {
   "cell_type": "code",
   "execution_count": 20,
   "id": "6bc83b57-8ec1-4efe-b206-90296d54d5a1",
   "metadata": {},
   "outputs": [
    {
     "data": {
      "text/plain": [
       "Index(['Open', 'High', 'Low', 'Close', 'Volume', 'Dividends', 'Stock Splits'], dtype='object')"
      ]
     },
     "execution_count": 20,
     "metadata": {},
     "output_type": "execute_result"
    }
   ],
   "source": [
    "data.columns"
   ]
  },
  {
   "cell_type": "markdown",
   "id": "2f3e5c16-102e-4a43-a2c3-d0b095ed05a5",
   "metadata": {},
   "source": [
    "### Computing Daily Returns"
   ]
  },
  {
   "cell_type": "code",
   "execution_count": 22,
   "id": "07d8ebf0-1d49-4829-873c-9295ef46a658",
   "metadata": {},
   "outputs": [],
   "source": [
    "data['Return']=data['Close'].pct_change()\n",
    "data.dropna(inplace=True)"
   ]
  },
  {
   "cell_type": "markdown",
   "id": "28c6bb73-31cf-4504-b933-f9ac0d971dbe",
   "metadata": {},
   "source": [
    "### Step 2: Feature Engineering"
   ]
  },
  {
   "cell_type": "markdown",
   "id": "0b5ddbaf-b35f-4cf6-a16e-946c96f295c3",
   "metadata": {},
   "source": [
    "### Technical Indicators Calculation"
   ]
  },
  {
   "cell_type": "code",
   "execution_count": 25,
   "id": "02c8404b-d0fa-4418-85d9-ae798eb47cb6",
   "metadata": {},
   "outputs": [
    {
     "data": {
      "text/plain": [
       "' Simple Moving Averages (SMA):\\nSMA_10: 10-day moving average of the closing price.\\nSMA_50: 50-day moving average.\\n\\nRelative Strength Index (RSI):\\nRSI above 70 → Overbought\\nRSI below 30 → Oversold\\n\\nMACD (Moving Average Convergence Divergence):\\nDifference between 12-day EMA & 26-day EMA.\\n\\nVolatility: Measures risk using standard deviation of returns over 10 days.\\n\\nMomentum: Difference in closing price over the past 10 days.\\n\\n'"
      ]
     },
     "execution_count": 25,
     "metadata": {},
     "output_type": "execute_result"
    }
   ],
   "source": [
    "### Some technical words used \n",
    "''' Simple Moving Averages (SMA):\n",
    "SMA_10: 10-day moving average of the closing price.\n",
    "SMA_50: 50-day moving average.\n",
    "\n",
    "Relative Strength Index (RSI):\n",
    "RSI above 70 → Overbought\n",
    "RSI below 30 → Oversold\n",
    "\n",
    "MACD (Moving Average Convergence Divergence):\n",
    "Difference between 12-day EMA & 26-day EMA.\n",
    "\n",
    "Volatility: Measures risk using standard deviation of returns over 10 days.\n",
    "\n",
    "Momentum: Difference in closing price over the past 10 days.\n",
    "\n",
    "'''"
   ]
  },
  {
   "cell_type": "code",
   "execution_count": 26,
   "id": "30ed236e-bf3b-46c8-9ab7-2c87d51bb2eb",
   "metadata": {},
   "outputs": [],
   "source": [
    "data['SMA_10'] = data['Close'].rolling(window=10).mean()\n",
    "data['SMA_50'] = data['Close'].rolling(window=50).mean()\n",
    "data['RSI'] = 100 - (100 / (1 + data['Return'].rolling(14).mean() / data['Return'].rolling(14).std()))\n",
    "data['MACD'] = data['Close'].ewm(span=12, adjust=False).mean() - data['Close'].ewm(span=26, adjust=False).mean()\n",
    "data['Volatility'] = data['Return'].rolling(window=10).std()\n",
    "data['Momentum'] = data['Close'].diff(10)\n",
    "data.dropna(inplace=True)"
   ]
  },
  {
   "cell_type": "code",
   "execution_count": 27,
   "id": "fa80079d-4e16-4822-8f99-d336a0152286",
   "metadata": {},
   "outputs": [],
   "source": [
    " # Check if there are extreme or missing values"
   ]
  },
  {
   "cell_type": "code",
   "execution_count": 28,
   "id": "c6f98f89-9fe9-415a-85c1-30f9f839ab94",
   "metadata": {},
   "outputs": [
    {
     "name": "stdout",
     "output_type": "stream",
     "text": [
      "                             Return\n",
      "Date                               \n",
      "1994-05-05 00:00:00-04:00 -0.008547\n",
      "1994-05-06 00:00:00-04:00  0.000000\n",
      "1994-05-09 00:00:00-04:00  0.000000\n",
      "1994-05-10 00:00:00-04:00  0.034483\n",
      "1994-05-11 00:00:00-04:00  0.008333\n",
      "1994-05-12 00:00:00-04:00  0.024793\n",
      "1994-05-13 00:00:00-04:00 -0.048387\n",
      "1994-05-16 00:00:00-04:00  0.008475\n",
      "1994-05-17 00:00:00-04:00  0.008403\n",
      "1994-05-18 00:00:00-04:00  0.000000\n",
      "1994-05-19 00:00:00-04:00  0.008333\n",
      "1994-05-20 00:00:00-04:00 -0.024794\n",
      "1994-05-23 00:00:00-04:00 -0.016949\n",
      "1994-05-24 00:00:00-04:00  0.043104\n",
      "1994-05-25 00:00:00-04:00  0.016529\n",
      "1994-05-26 00:00:00-04:00  0.008130\n",
      "1994-05-27 00:00:00-04:00  0.008064\n",
      "1994-05-31 00:00:00-04:00  0.032000\n",
      "1994-06-01 00:00:00-04:00 -0.023256\n",
      "1994-06-02 00:00:00-04:00  0.000000\n"
     ]
    }
   ],
   "source": [
    "print(data[['Return']].head(20))"
   ]
  },
  {
   "cell_type": "markdown",
   "id": "e7e8d7ba-ef3b-494e-8beb-70aa6ded484a",
   "metadata": {},
   "source": [
    "### Step 3: Data Visualization"
   ]
  },
  {
   "cell_type": "code",
   "execution_count": 30,
   "id": "5dd442d9-f506-4c52-87b7-a31b3682d1e7",
   "metadata": {},
   "outputs": [
    {
     "data": {
      "image/png": "[encoded data removed]",
      "text/plain": [
       "<Figure size 1200x600 with 1 Axes>"
      ]
     },
     "metadata": {},
     "output_type": "display_data"
    }
   ],
   "source": [
    "plt.figure(figsize=(12, 6))\n",
    "plt.plot(data.index, data['Close'], label='Close Price', color='blue')\n",
    "plt.plot(data.index, data['SMA_10'], label='SMA 10', color='red', linestyle='dashed')\n",
    "plt.plot(data.index, data['SMA_50'], label='SMA 50', color='green', linestyle='dashed')\n",
    "plt.title('Stock Price with Moving Averages')\n",
    "plt.legend()\n",
    "plt.show()"
   ]
  },
  {
   "cell_type": "markdown",
   "id": "a92da74e-69bd-4958-b113-cdd6d0de886f",
   "metadata": {},
   "source": [
    "## Task 2 : Model Building "
   ]
  },
  {
   "cell_type": "markdown",
   "id": "62080a16-4b5f-4857-95f2-809a8340bc35",
   "metadata": {},
   "source": [
    "### Step 1: Creating Labels for Prediction\r\n"
   ]
  },
  {
   "cell_type": "code",
   "execution_count": 53,
   "id": "52278f83-5dcd-48db-9d00-1dab7c165328",
   "metadata": {},
   "outputs": [],
   "source": [
    "from sklearn.model_selection import train_test_split\n",
    "from sklearn.ensemble import RandomForestClassifier\n",
    "from sklearn.metrics import accuracy_score, classification_report"
   ]
  },
  {
   "cell_type": "markdown",
   "id": "460d7f18-e87e-4e86-8116-b70ccefd533f",
   "metadata": {},
   "source": [
    "### Preparing Data "
   ]
  },
  {
   "cell_type": "code",
   "execution_count": 57,
   "id": "7230488b-3398-4fe8-baeb-ee6de1c521b0",
   "metadata": {},
   "outputs": [],
   "source": [
    "data['Target'] = (data['Return'].shift(-1) > 0).astype(int)\n",
    "features = ['SMA_10', 'SMA_50', 'RSI', 'MACD', 'Volatility', 'Momentum']\n",
    "X = data[features]\n",
    "y = data['Target']\n",
    "X_train, X_test, y_train, y_test = train_test_split(X, y, test_size=0.2, random_state=42)"
   ]
  },
  {
   "cell_type": "markdown",
   "id": "3dfa691e-06bc-403e-9ae2-984d74207e79",
   "metadata": {},
   "source": [
    "### Step 2: Training the model"
   ]
  },
  {
   "cell_type": "code",
   "execution_count": 61,
   "id": "1506e847-6de7-4a02-980d-2adbd5482401",
   "metadata": {},
   "outputs": [],
   "source": [
    "model = RandomForestClassifier(n_estimators=100, random_state=42)\n",
    "model.fit(X_train, y_train)\n",
    "y_pred = model.predict(X_test)"
   ]
  },
  {
   "cell_type": "markdown",
   "id": "26563aba-6a34-4b1e-9b75-f67fca572d3b",
   "metadata": {},
   "source": [
    "### Step 3: Evaluating Model Performance"
   ]
  },
  {
   "cell_type": "code",
   "execution_count": 65,
   "id": "a7d1fb96-7289-4025-b401-9328a27af795",
   "metadata": {},
   "outputs": [
    {
     "name": "stdout",
     "output_type": "stream",
     "text": [
      "Accuracy: 0.5094594594594595\n",
      "              precision    recall  f1-score   support\n",
      "\n",
      "           0       0.51      0.51      0.51       746\n",
      "           1       0.51      0.51      0.51       734\n",
      "\n",
      "    accuracy                           0.51      1480\n",
      "   macro avg       0.51      0.51      0.51      1480\n",
      "weighted avg       0.51      0.51      0.51      1480\n",
      "\n"
     ]
    }
   ],
   "source": [
    "print(\"Accuracy:\", accuracy_score(y_test, y_pred))\n",
    "print(classification_report(y_test, y_pred))"
   ]
  },
  {
   "cell_type": "markdown",
   "id": "58f97667-c42b-4af7-9d47-daf4e3b038c4",
   "metadata": {},
   "source": [
    "## Task 3: Backtesting a Simple Trading Strategy\r\n"
   ]
  },
  {
   "cell_type": "markdown",
   "id": "e7f7c06c-70b7-4002-b477-3c7bea89f954",
   "metadata": {},
   "source": [
    "### Step 1: Implementing the Trading Strategy with Stop-Loss and Take-Profit\r\n"
   ]
  },
  {
   "cell_type": "code",
   "execution_count": 74,
   "id": "4e179950-ae9c-42c3-a5b5-a1cf97618766",
   "metadata": {},
   "outputs": [
    {
     "name": "stdout",
     "output_type": "stream",
     "text": [
      "Final Capital after Backtest: $62000.67\n"
     ]
    }
   ],
   "source": [
    "def backtest_strategy(data, stop_loss=0.02, take_profit=0.04):\n",
    "    capital = 10000  \n",
    "    position = 0  \n",
    "    entry_price = 0  \n",
    "\n",
    "    for i in range(1, len(data)):\n",
    "        if position == 0:\n",
    "            if data['Return'].iloc[i] > 0:  \n",
    "                position = capital / data['Close'].iloc[i]\n",
    "                entry_price = data['Close'].iloc[i]\n",
    "                capital = 0\n",
    "        else:\n",
    "            if data['Close'].iloc[i] <= entry_price * (1 - stop_loss):\n",
    "                capital = position * data['Close'].iloc[i]  \n",
    "                position = 0\n",
    "            elif data['Close'].iloc[i] >= entry_price * (1 + take_profit):\n",
    "                capital = position * data['Close'].iloc[i]  \n",
    "                position = 0\n",
    "    return capital if position == 0 else position * data['Close'].iloc[-1]\n",
    "\n",
    "final_capital = backtest_strategy(data)\n",
    "print(f\"Final Capital after Backtest: ${final_capital:.2f}\")"
   ]
  },
  {
   "cell_type": "markdown",
   "id": "e184738b-3d05-4a75-893c-e21cac901bb5",
   "metadata": {},
   "source": [
    "\r\n",
    "## Task 4: Optimization & Refinement\r\n"
   ]
  },
  {
   "cell_type": "markdown",
   "id": "ad4d4433-09a4-4d30-92a1-9f63aec89b5a",
   "metadata": {},
   "source": [
    "### Hyperparameter Optimization"
   ]
  },
  {
   "cell_type": "code",
   "execution_count": null,
   "id": "202101bb-0e11-4b1e-95cb-57ee1801348b",
   "metadata": {},
   "outputs": [],
   "source": [
    "from sklearn.model_selection import GridSearchCV\n",
    "\n",
    "param_grid = {'n_estimators': [50, 100, 200], 'max_depth': [None, 10, 20]}\n",
    "grid_search = GridSearchCV(RandomForestClassifier(random_state=42), param_grid, cv=5, scoring='accuracy')\n",
    "grid_search.fit(X_train, y_train)\n",
    "print(\"Best Parameters:\", grid_search.best_params_)"
   ]
  },
  {
   "cell_type": "code",
   "execution_count": null,
   "id": "cab027be-bfd6-47d4-a292-9e7348f6f424",
   "metadata": {},
   "outputs": [],
   "source": []
  }
 ],
 "metadata": {
  "kernelspec": {
   "display_name": "Python 3 (ipykernel)",
   "language": "python",
   "name": "python3"
  },
  "language_info": {
   "codemirror_mode": {
    "name": "ipython",
    "version": 3
   },
   "file_extension": ".py",
   "mimetype": "text/x-python",
   "name": "python",
   "nbconvert_exporter": "python",
   "pygments_lexer": "ipython3",
   "version": "3.12.3"
  }
 },
 "nbformat": 4,
 "nbformat_minor": 5
}
